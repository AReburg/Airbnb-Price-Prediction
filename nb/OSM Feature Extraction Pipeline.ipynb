{
 "cells": [
  {
   "cell_type": "markdown",
   "metadata": {},
   "source": [
    "## A Guide: Turning OpenStreetMap Location Data into ML Features\n",
    "#### How to pull shops, restaurants, public transport modes and other local amenities into your ML models."
   ]
  },
  {
   "cell_type": "markdown",
   "metadata": {},
   "source": [
    "#### 1. Import libraries and load data from database.\n",
    "\n",
    "Import Python libraries\n",
    "\n",
    "Load dataset from database with read_sql_table\n",
    "\n",
    "Define feature and target variables X and Y"
   ]
  },
  {
   "cell_type": "code",
   "execution_count": null,
   "metadata": {},
   "outputs": [],
   "source": [
    "pip install osmnx"
   ]
  },
  {
   "cell_type": "code",
   "execution_count": null,
   "metadata": {},
   "outputs": [],
   "source": [
    "# import modules/libraries\n",
    "import warnings \n",
    "warnings.simplefilter(action='ignore')\n",
    "import osmnx as ox\n",
    "import pandas as pd\n",
    "import numpy as np\n",
    "import geopandas as gpd\n",
    "import time\n",
    "import os\n",
    "import pickle\n",
    "from sqlalchemy import create_engine\n",
    "import re\n",
    "import sqlite3\n",
    "from pathlib import Path\n",
    "\n",
    "# import modules for visualisation\n",
    "import seaborn as sns\n",
    "import matplotlib as mpl \n",
    "%matplotlib inline \n",
    "import matplotlib.pyplot as plt \n",
    "\n",
    "pd.set_option('display.max_columns', None)\n",
    "\n",
    "from shapely.geometry.polygon import Polygon\n",
    "from shapely.geometry.multipolygon import MultiPolygon"
   ]
  },
  {
   "cell_type": "code",
   "execution_count": null,
   "metadata": {},
   "outputs": [],
   "source": [
    "cwd = Path().resolve()\n",
    "dirname = os.path.join(Path(cwd).parent, 'data', 'listings.csv')\n",
    "\n",
    "# import the airbnb data\n",
    "df = pd.read_csv(dirname, index_col=False, sep=\",\")\n",
    "df_cal = pd.read_csv(os.path.join(Path(cwd).parent, 'data', 'calendar.csv'), index_col=False, sep=\",\")\n",
    "df_rev = pd.read_csv(os.path.join(Path(cwd).parent, 'data', 'reviews.csv'), index_col=False, sep=\",\")\n",
    "\n",
    "# set data types\n",
    "pd.to_datetime(df['last_review'])\n",
    "pd.to_datetime(df_cal['date'])\n",
    "pd.to_datetime(df_rev['date'])\n",
    "\n",
    "# display the first rows...\n",
    "df.head(1)"
   ]
  },
  {
   "cell_type": "code",
   "execution_count": null,
   "metadata": {},
   "outputs": [],
   "source": [
    "# manipulate data\n",
    "def get_price(price_str):\n",
    "    price = price_str.replace('$','')\n",
    "    return price.replace('.', '')\n",
    "df_cal['price'] = df_cal.apply(lambda x: get_price(x['price']), axis=1)\n",
    "df_cal['price'] = df_cal['price'].astype(float)"
   ]
  },
  {
   "cell_type": "code",
   "execution_count": null,
   "metadata": {},
   "outputs": [],
   "source": [
    "df_cal.head(5)"
   ]
  },
  {
   "cell_type": "code",
   "execution_count": null,
   "metadata": {},
   "outputs": [],
   "source": [
    "\n",
    "\n",
    "# plot figure with 4 line charts showing availability and price deviation throughout the year \n",
    "fig = plt.figure(figsize=(16, 8), constrained_layout = False)\n",
    "\n",
    "# setup grid layout\n",
    "outer_grid = fig.add_gridspec(1, 2, wspace = 0.02, hspace = 0)\n",
    "for i in range(2):\n",
    "    inner_grid = outer_grid[i].subgridspec(2, 1, wspace = 0, hspace = 0.05)\n",
    "    for j in range(2):\n",
    "        fig.add_subplot(inner_grid[j])\n",
    "\n",
    "ax = fig.get_axes()\n",
    "\n",
    "# plot for each price category\n",
    "for idx, price_bin in enumerate(price_category):\n",
    "    \n",
    "    # graph index shortcuts (ax_av = avilability graph, ax_price = price graph)\n",
    "    ax_av = ax[2 * idx]\n",
    "    ax_price = ax[2 * idx + 1]\n",
    "    \n",
    "\n",
    "    # prepare subset of data\n",
    "    data = trend_all[(trend_all['price_category'] == price_bin)]\n",
    "        \n",
    "    # plot daily availability of listings\n",
    "    data.plot(x='date', y='available_daily_subgroup_avg', legend = False, linewidth = 2, ax = ax_av)\n",
    "        \n",
    "    # plot price percent deviation from mean daily prices\n",
    "    data.plot(x='date', y='adjusted_price_daily_pdev', legend = False, linewidth = 2, ax = ax_price)    \n",
    "    \n",
    "    # formatting of axes, legends, titles\n",
    "    ax_av.set_title(f'price category: {price_bin.capitalize()}')\n",
    "    ax_av.axes.get_xaxis().set_visible(False)\n",
    "    ax_av.set_ylim(0, 1)\n",
    "    ax_price.set_xlabel('')\n",
    "    ax_price.set_ylim(-35, 100)\n",
    "    \n",
    "    # add dashed line to mark 0 % for price percent deviation charts\n",
    "    ax_price.axhline(y = 0, color = 'k', linestyle = 'dashed', linewidth=1)\n",
    "\n",
    "\n",
    "# clean up ticks and labels\n",
    "ax[0].set_ylabel('proportion of available listings\\n(0 - 1)', fontsize=12)\n",
    "ax[1].set_ylabel('price deviation in percent\\nfrom average (%)', fontsize=12)\n",
    "ax[2].set_yticks([])\n",
    "ax[3].set_yticks([])\n",
    "fig.suptitle(f'Airbnb listing availability and price trends in course of the year'\n",
    "               f'\\nfrom {data.date.min().date()} ' f'to {data.date.max().date()}', y=1.00)"
   ]
  },
  {
   "cell_type": "markdown",
   "metadata": {},
   "source": [
    "You could loop this process and also pull all data on bars, restaurants, nightclubs, and all of the other amenities that might affect what a host will charge for an Airbnb."
   ]
  },
  {
   "cell_type": "code",
   "execution_count": null,
   "metadata": {
    "scrolled": true
   },
   "outputs": [],
   "source": [
    "query = {'amenity':'restaurant'}\n",
    "\n",
    "restaurants_gdf = ox.pois.pois_from_place(\n",
    "            'Greater London, UK',\n",
    "            tags = query,\n",
    "            which_result=1)\n",
    "\n",
    "restaurants_gdf.head(5)"
   ]
  },
  {
   "cell_type": "code",
   "execution_count": null,
   "metadata": {},
   "outputs": [],
   "source": [
    "def get_geo_data(selector, sel='offline'):\n",
    "    \"\"\" Load Austrian geojson  \"\"\"\n",
    "\n",
    "    if selector == 'municipal' and sel=='online':\n",
    "        link = 'https://raw.githubusercontent.com/ginseng666/GeoJSON-TopoJSON-Austria/master/2021/simplified-99.5/gemeinden_995_geo.json'\n",
    "    elif selector == 'municipal' and sel=='offline':\n",
    "        with open(os.path.join(Path(cwd).parent, 'data', 'geojson', 'gemeinden_999_geo.json')) as fp:\n",
    "            counties = json.load(fp)\n",
    "\n",
    "    if selector == 'district' and sel=='online':\n",
    "            link = 'https://raw.githubusercontent.com/ginseng666/GeoJSON-TopoJSON-Austria/master/2021/simplified-99.9/bezirke_999_geo.json'\n",
    "    elif selector == 'district' and sel=='offline':\n",
    "        with open(os.path.join(Path(cwd).parent, 'data', 'geojson', 'bezirke_999_geo.json')) as fp:\n",
    "            counties = json.load(fp)\n",
    "        \n",
    "    if selector == 'state' and sel=='online':\n",
    "        link = 'https://raw.githubusercontent.com/ginseng666/GeoJSON-TopoJSON-Austria/master/2021/simplified-99.9/laender_999_geo.json'\n",
    "    elif selector == 'state' and sel=='offline':\n",
    "        with open(os.path.join(Path(cwd).parent, 'data', 'geojson', 'laender_999_geo.json')) as fp:\n",
    "            counties = json.load(fp)\n",
    "            \n",
    "    if sel == 'online':\n",
    "        with urlopen(link) as response:\n",
    "            counties = json.load(response)\n",
    "\n",
    "    return counties"
   ]
  },
  {
   "cell_type": "code",
   "execution_count": null,
   "metadata": {},
   "outputs": [],
   "source": [
    "# explore data\n",
    "### display histograms for all columns with numerical data\n",
    "listings_df.select_dtypes(include=np.number).hist(figsize = (16, 10), bins=50, log = False)\n",
    "plt.suptitle('distributions of numeric features', y=1.05)\n",
    "plt.tight_layout()\n"
   ]
  },
  {
   "cell_type": "code",
   "execution_count": null,
   "metadata": {},
   "outputs": [],
   "source": [
    "path = os.path.join(Path(cwd).parent, 'data', 'neighbourhoods.geojson')\n",
    "neighbourhoods_gdf = gpd.read_file(path)\n",
    "display(neighbourhoods_gdf.plot())"
   ]
  },
  {
   "cell_type": "markdown",
   "metadata": {},
   "source": [
    "#### 2. OSM Data\n",
    "##### 2.1. Query OSM Data\n",
    "source: https://python.plainenglish.io/osmnx-the-fastest-way-to-get-data-from-openstreetmaps-731419d4dc31\n",
    "\n",
    "Overpass frontend: https://overpass-turbo.eu/\n",
    "\n",
    "Overpass doku: https://wiki.openstreetmap.org/wiki/Overpass_API\n",
    "\n",
    "Countries are marked (2), states (4), cities can (6) or (7) depending on type \n",
    "\n",
    "https://wiki.openstreetmap.org/wiki/Overpass_API/Language_Guide#Select_Region_by_Polygon\n",
    "\n",
    "\n",
    "Cool osmnx example: https://python.plainenglish.io/osmnx-the-fastest-way-to-get-data-from-openstreetmaps-731419d4dc31\n",
    "\n",
    "osmnx doku:  https://osmnx.readthedocs.io/en/stable/osmnx.html\n",
    "\n",
    "insight airbnbn vienna: https://github.com/eugeniftimoaie/airbnb_vienna/blob/master/airbnb_vienna.ipynb\n",
    "\n",
    "https://towardsdatascience.com/a-guide-turning-openstreetmap-location-data-into-ml-features-e687b66db210\n",
    "\n",
    "https://www.data.gv.at/katalog/dataset/stadt-wien_bezirksgrenzenwien\n",
    "\n",
    "\n",
    "https://gis.stackexchange.com/questions/354184/showing-only-the-external-boundary-of-a-geopandas-dataframe\n",
    "\n",
    "\n"
   ]
  },
  {
   "cell_type": "code",
   "execution_count": 195,
   "metadata": {},
   "outputs": [
    {
     "ename": "AttributeError",
     "evalue": "'Polygon' object has no attribute 'plot'",
     "output_type": "error",
     "traceback": [
      "\u001b[1;31m---------------------------------------------------------------------------\u001b[0m",
      "\u001b[1;31mAttributeError\u001b[0m                            Traceback (most recent call last)",
      "\u001b[1;32m<ipython-input-195-7943990a4e67>\u001b[0m in \u001b[0;36m<module>\u001b[1;34m\u001b[0m\n\u001b[0;32m     11\u001b[0m \u001b[1;33m\u001b[0m\u001b[0m\n\u001b[0;32m     12\u001b[0m \u001b[1;31m#region = ox.geocoder.geocode_to_gdf(region_name, which_result=2, by_osmid=False)\u001b[0m\u001b[1;33m\u001b[0m\u001b[1;33m\u001b[0m\u001b[1;33m\u001b[0m\u001b[0m\n\u001b[1;32m---> 13\u001b[1;33m \u001b[0mregion\u001b[0m\u001b[1;33m.\u001b[0m\u001b[0mplot\u001b[0m\u001b[1;33m(\u001b[0m\u001b[0mfigsize\u001b[0m\u001b[1;33m=\u001b[0m\u001b[1;33m(\u001b[0m\u001b[1;36m15\u001b[0m\u001b[1;33m,\u001b[0m\u001b[1;36m15\u001b[0m\u001b[1;33m)\u001b[0m\u001b[1;33m)\u001b[0m\u001b[1;33m\u001b[0m\u001b[1;33m\u001b[0m\u001b[0m\n\u001b[0m\u001b[0;32m     14\u001b[0m \u001b[0mplt\u001b[0m\u001b[1;33m.\u001b[0m\u001b[0mtitle\u001b[0m\u001b[1;33m(\u001b[0m\u001b[0mregion_name\u001b[0m\u001b[1;33m,\u001b[0m \u001b[0mfontdict\u001b[0m\u001b[1;33m=\u001b[0m\u001b[1;33m{\u001b[0m\u001b[1;34m'fontsize'\u001b[0m\u001b[1;33m:\u001b[0m\u001b[1;36m15\u001b[0m\u001b[1;33m}\u001b[0m\u001b[1;33m)\u001b[0m\u001b[1;33m\u001b[0m\u001b[1;33m\u001b[0m\u001b[0m\n\u001b[0;32m     15\u001b[0m \u001b[0mplt\u001b[0m\u001b[1;33m.\u001b[0m\u001b[0mgrid\u001b[0m\u001b[1;33m(\u001b[0m\u001b[1;33m)\u001b[0m\u001b[1;33m\u001b[0m\u001b[1;33m\u001b[0m\u001b[0m\n",
      "\u001b[1;31mAttributeError\u001b[0m: 'Polygon' object has no attribute 'plot'"
     ]
    }
   ],
   "source": [
    "region_name = 'Vienna Inner City, Austria'#\n",
    "#\n",
    "# https://nominatim.openstreetmap.org/reverse?format=xml&lat=17.3616&lon=78.4747&zoom=18&addressdetails=1\n",
    "#or 'City, Country' if you have city that meets more ...than one time in the world\n",
    "#sometimes you need to play with which_result parameter because you can receive node point, not the polygon\n",
    "\n",
    "\n",
    "\n",
    "#region = ox.geocoder.geocode_to_gdf(region_name, which_result=2, by_osmid=False)\n",
    "region.plot(figsize=(15,15))\n",
    "plt.title(region_name, fontdict={'fontsize':15})\n",
    "plt.grid()"
   ]
  },
  {
   "cell_type": "code",
   "execution_count": 196,
   "metadata": {},
   "outputs": [
    {
     "name": "stderr",
     "output_type": "stream",
     "text": [
      "C:\\Users\\klara\\anaconda3\\lib\\site-packages\\ipykernel\\ipkernel.py:287: DeprecationWarning: `should_run_async` will not call `transform_cell` automatically in the future. Please pass the result to `transformed_cell` argument and any exception that happen during thetransform in `preprocessing_exc_tuple` in IPython 7.17 and above.\n",
      "  and should_run_async(code)\n"
     ]
    }
   ],
   "source": [
    "boundary_geojson = gpd.read_file(os.path.join(Path(cwd).parent, 'data', 'geojson', 'vienna.geojson'))\n",
    "region = boundary_geojson.geometry.unary_union"
   ]
  },
  {
   "cell_type": "code",
   "execution_count": 200,
   "metadata": {},
   "outputs": [],
   "source": [
    "#print(region)"
   ]
  },
  {
   "cell_type": "code",
   "execution_count": null,
   "metadata": {},
   "outputs": [],
   "source": []
  },
  {
   "cell_type": "code",
   "execution_count": null,
   "metadata": {},
   "outputs": [],
   "source": [
    "# 'N17328659'\n",
    "\n",
    "polygon = ox.geocode_to_gdf(['R109166'])\n",
    "#polygon = gdf.iloc[0]['geometry']\n",
    "#polygon.exterior.coords\n",
    "polygon.plot(figsize=(15,15))\n",
    "plt.grid()"
   ]
  },
  {
   "cell_type": "code",
   "execution_count": null,
   "metadata": {},
   "outputs": [],
   "source": [
    "gdf = ox.geocode_to_gdf('N17328659', by_osmid=True)\n",
    "polygon = gdf.iloc[0]['geometry']\n",
    "polygon.exterior.coords\n",
    "list(polygon.exterior.coords)"
   ]
  },
  {
   "cell_type": "markdown",
   "metadata": {},
   "source": [
    "#### 2.2. Get list of all the keys from the OSM Wiki\n",
    "lookup: https://github.com/gboeing/osmnx/blob/main/tests/test_osmnx.py"
   ]
  },
  {
   "cell_type": "code",
   "execution_count": null,
   "metadata": {},
   "outputs": [],
   "source": [
    "def get_all_amenities():\n",
    "    \"\"\" get all amenitiy keys from OSM wiki \"\"\"\n",
    "    try:\n",
    "        amenities = pd.read_html('https://wiki.openstreetmap.org/wiki/Key:amenity', skiprows = 0, header=0, attrs = {'class': 'wikitable'})[0]\n",
    "        amenities.drop(columns=['Element', 'Carto rendering','Photo', 'Unnamed: 6'], inplace=True, axis=1)\n",
    "        amenities.drop(index=0, inplace=True)\n",
    "        return amenities\n",
    "    except:\n",
    "        print(\"Amenities could not be found\")\n",
    "\n",
    "        \n",
    "def get_buildings():\n",
    "    \"\"\" get all building keys from OSM wiki \"\"\"\n",
    "    try:\n",
    "        building = pd.read_html('https://wiki.openstreetmap.org/wiki/Key:building', skiprows = 0, header=0, attrs = {'class': 'wikitable'})[0]\n",
    "        building.drop(columns=['Unnamed: 4', 'Unnamed: 5', 'Photo', 'Unnamed: 6'], inplace=True, axis=1)\n",
    "        building.drop(index=0, inplace=True)\n",
    "        return building\n",
    "    except:\n",
    "        print(\"buildings could not be found\")\n",
    "        \n",
    "buildings = get_buildings()\n",
    "amenities = get_all_amenities()\n",
    "print(f\"Building keys: {', '.join(buildings['Value'].tolist())}\")\n",
    "print(f\"Amenities keys: {', '.join(amenities['Value'].tolist())}\")"
   ]
  },
  {
   "cell_type": "markdown",
   "metadata": {},
   "source": [
    "#### 2.3. Query the date with the ox API"
   ]
  },
  {
   "cell_type": "code",
   "execution_count": null,
   "metadata": {},
   "outputs": [],
   "source": [
    "t0 = time.time()\n",
    "\n",
    "#building: True means that every type of buildings will be downloaded\n",
    "buildings = ox.geometries.geometries_from_polygon(region['geometry'][0], tags = {'building': True})\n",
    "#Using graph module we will recieve graph of roads in the city\n",
    "roads = ox.graph.graph_from_polygon(region['geometry'][0])\n",
    "restaurants = ox.geometries.geometries_from_polygon(region['geometry'][0], tags = {'amenity':'restaurant'})\n",
    "kindergarten = ox.geometries.geometries_from_polygon(region['geometry'][0], tags = {'amenity':'kindergarten'})\n",
    "cafe = ox.geometries.geometries_from_polygon(region['geometry'][0], tags = {'amenity':'cafe'})\n",
    "bars = ox.geometries.geometries_from_polygon(region['geometry'][0], tags = {'amenity':'bar'})\n",
    "forest = ox.geometries.geometries_from_polygon(region['geometry'][0], tags = {'landuse': 'forest'})\n",
    "rivers = ox.geometries.geometries_from_polygon(region['geometry'][0], tags = {'waterway': 'river'})\n",
    "\n",
    "print (\"Completed in %s seconds\" % (round(time.time() - t0, 2)))"
   ]
  },
  {
   "cell_type": "code",
   "execution_count": null,
   "metadata": {},
   "outputs": [],
   "source": [
    "secondary_roads = ox.geometries.geometries_from_polygon(region['geometry'][0], tags = {'highway': 'secondary'})"
   ]
  },
  {
   "cell_type": "code",
   "execution_count": null,
   "metadata": {},
   "outputs": [],
   "source": [
    "secondary_roads.head()"
   ]
  },
  {
   "cell_type": "code",
   "execution_count": null,
   "metadata": {},
   "outputs": [],
   "source": [
    "def convert_xy(xy):\n",
    "    \"\"\" \"\"\"\n",
    "    try:\n",
    "        return pd.Series([xy.x, xy.y])\n",
    "    except:\n",
    "        print(xy)\n",
    "        pass\n",
    "    #restaurants['lon'] = restaurants['geometry'].x\n",
    "    #restaurants['lat'] = restaurants['geometry'].y\n",
    "    # restaurants.head()\n",
    "    \n",
    "parameters = [roads, restaurants, kindergarten, cafe, bars, rivers]\n",
    "for i in parameters:\n",
    "    try:\n",
    "        print(t.shape[0])\n",
    "        #j = t['geometry'].representative_point()\n",
    "        i['geometry'] = i['geometry'].apply(lambda x: x.centroid if type(x) == Polygon else (x.centroid if type(x) == MultiPolygon else x))\n",
    "        i[['x', 'y']] = i.apply(lambda x: convert_xy(x['geometry']), axis=1)\n",
    "        print(i.shape[0])\n",
    "    except:\n",
    "        pass\n",
    "\n"
   ]
  },
  {
   "cell_type": "code",
   "execution_count": null,
   "metadata": {},
   "outputs": [],
   "source": [
    "#restaurants['lon'] = restaurants['geometry'].point_object.apply(lambda p: p.x)\n",
    "#restaurants['lat'] = restaurants['geometry'].point_object.apply(lambda p: p.y)\n",
    "i =restaurants.copy()\n",
    "i.head()"
   ]
  },
  {
   "cell_type": "code",
   "execution_count": null,
   "metadata": {},
   "outputs": [],
   "source": [
    "#city\n",
    "ax = region.plot(facecolor = '#494D4D', figsize=(85,85))\n",
    "ax.set_facecolor('#2C2E2E')\n",
    "buildings['geometry'].plot(facecolor = '#C61313',\n",
    "                           edgecolor = '#C61313',\n",
    "                           linewidth = 3,\n",
    "                           markersize = 1,\n",
    "                           ax = ax)\n",
    "\"\"\"\n",
    "forest.plot(facecolor = '#494D4D',\n",
    "            edgecolor = '#ADC3B8',\n",
    "            linewidth = 2,\n",
    "            linestyle = ':',\n",
    "            hatch = 'x',\n",
    "            ax = ax)\n",
    "\n",
    "rivers.plot(edgecolor = '#67A0C3',\n",
    "            linewidth = 6,\n",
    "            linestyle = '-',\n",
    "            ax = ax)\n",
    "\n",
    "ox.plot_graph(roads,\n",
    "              edge_color = 'white',\n",
    "              node_color = 'white',\n",
    "              edge_linewidth=2,\n",
    "              node_size = 2,\n",
    "              ax=ax)\"\"\"\n",
    "\n",
    "ax.grid('on', which='major', axis='x', color = '#99A2A2')\n",
    "ax.grid('on', which='major', axis='y', color = '#99A2A2')\n",
    "plt.show()"
   ]
  },
  {
   "cell_type": "code",
   "execution_count": null,
   "metadata": {},
   "outputs": [],
   "source": [
    "def geo_heatmap(df, party, selector, camp, show_winner=True, title=''):\n",
    "    \"\"\" selector specifies the geographic resolution\n",
    "    \"\"\"\n",
    "    feat_key = ''\n",
    "    locations = ''\n",
    "    hover_data = ''\n",
    "    if selector == 'municipal':\n",
    "        feat_key = \"properties.iso\"\n",
    "        locations = \"GKZ\"\n",
    "        hover_data = party\n",
    "        hover_name = df.NAME\n",
    "    elif selector == 'district':\n",
    "        feat_key = \"properties.iso\"\n",
    "        locations = \"BEZ\"\n",
    "        hover_data = party\n",
    "        hover_name = df.NAME\n",
    "    elif selector == 'state':\n",
    "        feat_key = \"properties.iso\"\n",
    "        locations = \"LAND\"\n",
    "        hover_data = party\n",
    "        hover_name = df.NAME\n",
    "    temp = get_geo_data(selector, tpye='offline')\n",
    "\n",
    "    fig = px.choropleth_mapbox(df, geojson=temp, locations=locations,\n",
    "                               featureidkey=feat_key,\n",
    "                               title=title,\n",
    "                               \n",
    "                               #color_continuous_scale=\"Viridis\",\n",
    "                               #range_color=(df[camp].quantile(0.25), df[camp].quantile(0.75)),\n",
    "                               \n",
    "                               # mapbox_style=\"carto-positron\",\n",
    "                               color_discrete_map= {'ÖVP': 'black',\n",
    "                                      'SPÖ': 'red',\n",
    "                                      'FPÖ': 'blue',\n",
    "                                        'GRÜNE': 'green'},\n",
    "                               color=df['winner'],\n",
    "                               hover_data = hover_data,\n",
    "                               hover_name = hover_name,\n",
    "                               mapbox_style=\"open-street-map\",\n",
    "                               zoom=5, center = {\"lat\": 47.809490, \"lon\": 13.055010},\n",
    "                               opacity=0.25,\n",
    "                              )\n",
    "    # fig.update_layout(margin={\"r\":10,\"t\":10,\"l\":0,\"b\":0})\n",
    "    fig.update_layout(coloraxis_colorbar_title='Gewinner')\n",
    "    fig.show()"
   ]
  },
  {
   "cell_type": "code",
   "execution_count": null,
   "metadata": {},
   "outputs": [],
   "source": [
    "# download notebook to html\n",
    "!jupyter nbconvert --to html airbnb_analysis.ipynb\n",
    "\n",
    "# pip install --upgrade ipykernel"
   ]
  },
  {
   "cell_type": "code",
   "execution_count": null,
   "metadata": {},
   "outputs": [],
   "source": [
    "# https://resonance-analytics.com/blog/deploying-dash-apps-on-azure\n",
    "# ML engineer / data story teller / electrical engineer / digital illustrator / 3D modeler. I am writing data science blog with my cousin.\n",
    "\n",
    "\n",
    "# wiener :\n",
    "https://nbviewer.org/github/eugeniftimoaie/airbnb_vienna/blob/master/airbnb_vienna.ipynb\n"
   ]
  },
  {
   "cell_type": "code",
   "execution_count": null,
   "metadata": {},
   "outputs": [],
   "source": []
  },
  {
   "cell_type": "code",
   "execution_count": null,
   "metadata": {},
   "outputs": [],
   "source": []
  }
 ],
 "metadata": {
  "kernelspec": {
   "display_name": "Python 3",
   "language": "python",
   "name": "python3"
  },
  "language_info": {
   "codemirror_mode": {
    "name": "ipython",
    "version": 3
   },
   "file_extension": ".py",
   "mimetype": "text/x-python",
   "name": "python",
   "nbconvert_exporter": "python",
   "pygments_lexer": "ipython3",
   "version": "3.8.5"
  }
 },
 "nbformat": 4,
 "nbformat_minor": 4
}
